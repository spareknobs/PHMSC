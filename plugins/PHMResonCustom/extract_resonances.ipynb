{
 "cells": [
  {
   "cell_type": "code",
   "execution_count": null,
   "id": "90c74421-c6e5-4baf-bed7-f0489388ab8e",
   "metadata": {},
   "outputs": [],
   "source": [
    "import numpy as np\n",
    "import matplotlib.pyplot as plt\n",
    "from scipy.signal import find_peaks\n",
    "from scipy import fft\n",
    "from scipy.signal import stft\n",
    "import soundfile as sf\n",
    "import IPython.display as ipd"
   ]
  },
  {
   "cell_type": "code",
   "execution_count": null,
   "id": "8d58974a-3dee-4574-be0b-23d83c590494",
   "metadata": {},
   "outputs": [],
   "source": [
    "#audio_file = '/Users/riccardomorgana/Desktop/cymbal.wav'\n",
    "audio_file = 'wavs/wood.wav'\n",
    "audio, sr = sf.read(audio_file)\n",
    "print(\"samplerate: \" + str(sr))\n",
    "\n",
    "if audio.ndim > 1:\n",
    "    audio = audio[:,0]\n",
    "\n",
    "ipd.Audio(audio,rate=sr)\n",
    "\n",
    "#test\n",
    "#f1 = 440.0 / sample_rate\n",
    "#f2 = 1440.0 / sample_rate\n",
    "#x = np.cos(2.0 * np.pi * f1 * np.r_[0:N]) + np.cos(2.0 * np.pi * f2 * np.r_[0:N])\n"
   ]
  },
  {
   "cell_type": "code",
   "execution_count": null,
   "id": "85fdc99a-8db9-4291-a3a7-a3b0fe02d52b",
   "metadata": {},
   "outputs": [],
   "source": [
    "N = 4096\n",
    "x = audio[0:N]\n",
    "s = fft.rfft(x)\n",
    "mag = abs(s) \n",
    "magdb = 20*np.log10(mag)\n",
    "peaks, _ = find_peaks( mag, prominence=10, height=0)\n",
    "\n",
    "freqs = peaks / N * sr\n",
    "nbins = N//2\n",
    "freqline = np.divide(range(0,nbins+1), N) * sr\n",
    "mags = mag[peaks]\n",
    "nmags = mags / np.max(mags)\n",
    "\n",
    "file = open(\"resonances.txt\", \"w+\")\n",
    "for f,m in zip(freqs, nmags):\n",
    "    print(\"{:.1f}\".format(f),end=\",\")\n",
    "    print(\"{:.3f}\".format(m), end=\"\\n\")\n",
    "    file.write(\"{:.1f}\".format(f))\n",
    "    file.write(\", \")\n",
    "    file.write(\"{:.3f}\".format(m))\n",
    "    file.write(\"\\n\")             \n",
    "\n",
    "file.close\n",
    "\n",
    "plt.plot(freqline, mag)\n",
    "plt.plot(freqs, mag[peaks], \"x\")\n",
    "plt.plot(np.zeros_like(mag), \"--\", color=\"gray\")"
   ]
  }
 ],
 "metadata": {
  "kernelspec": {
   "display_name": "Python 3 (ipykernel)",
   "language": "python",
   "name": "python3"
  },
  "language_info": {
   "codemirror_mode": {
    "name": "ipython",
    "version": 3
   },
   "file_extension": ".py",
   "mimetype": "text/x-python",
   "name": "python",
   "nbconvert_exporter": "python",
   "pygments_lexer": "ipython3",
   "version": "3.9.6"
  }
 },
 "nbformat": 4,
 "nbformat_minor": 5
}
